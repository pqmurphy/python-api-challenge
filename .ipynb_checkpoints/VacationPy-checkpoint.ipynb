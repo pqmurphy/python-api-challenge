{
 "cells": [
  {
   "cell_type": "markdown",
   "metadata": {},
   "source": [
    "# VacationPy\n",
    "----\n",
    "\n",
    "#### Note\n",
    "* Instructions have been included for each segment. You do not have to follow them exactly, but they are included to help you think through the steps."
   ]
  },
  {
   "cell_type": "code",
   "execution_count": 34,
   "metadata": {},
   "outputs": [],
   "source": [
    "# Dependencies and Setup\n",
    "import matplotlib.pyplot as plt\n",
    "import pandas as pd\n",
    "import numpy as np\n",
    "import requests\n",
    "import gmaps\n",
    "import os\n",
    "import sys\n",
    "\n",
    "# Import API key\n",
    "from api_key_store import g_key\n",
    "\n",
    "# CSV Path\n",
    "csvpath = \"output_data/cities.csv\"\n",
    "\n",
    "# Places URL\n",
    "base_url = \"https://maps.googleapis.com/maps/api/place/nearbysearch/json\""
   ]
  },
  {
   "cell_type": "markdown",
   "metadata": {},
   "source": [
    "### Store Part I results into DataFrame\n",
    "* Load the csv exported in Part I to a DataFrame"
   ]
  },
  {
   "cell_type": "code",
   "execution_count": 35,
   "metadata": {},
   "outputs": [
    {
     "data": {
      "text/html": [
       "<div>\n",
       "<style scoped>\n",
       "    .dataframe tbody tr th:only-of-type {\n",
       "        vertical-align: middle;\n",
       "    }\n",
       "\n",
       "    .dataframe tbody tr th {\n",
       "        vertical-align: top;\n",
       "    }\n",
       "\n",
       "    .dataframe thead th {\n",
       "        text-align: right;\n",
       "    }\n",
       "</style>\n",
       "<table border=\"1\" class=\"dataframe\">\n",
       "  <thead>\n",
       "    <tr style=\"text-align: right;\">\n",
       "      <th></th>\n",
       "      <th>Cities</th>\n",
       "      <th>Latitude</th>\n",
       "      <th>Longitude</th>\n",
       "      <th>Temperature (F)</th>\n",
       "      <th>Pressure</th>\n",
       "      <th>Humidity (%)</th>\n",
       "      <th>Minimum Temperature (F)</th>\n",
       "      <th>Maximum Temperature (F)</th>\n",
       "      <th>Cloud Coverage (%)</th>\n",
       "      <th>Wind Speed (mph)</th>\n",
       "    </tr>\n",
       "  </thead>\n",
       "  <tbody>\n",
       "    <tr>\n",
       "      <th>0</th>\n",
       "      <td>kavieng</td>\n",
       "      <td>-2.57</td>\n",
       "      <td>150.80</td>\n",
       "      <td>82.58</td>\n",
       "      <td>1012.17</td>\n",
       "      <td>70</td>\n",
       "      <td>82.58</td>\n",
       "      <td>82.58</td>\n",
       "      <td>73</td>\n",
       "      <td>5.99</td>\n",
       "    </tr>\n",
       "    <tr>\n",
       "      <th>1</th>\n",
       "      <td>monrovia</td>\n",
       "      <td>6.33</td>\n",
       "      <td>-10.80</td>\n",
       "      <td>78.80</td>\n",
       "      <td>1012.00</td>\n",
       "      <td>94</td>\n",
       "      <td>78.80</td>\n",
       "      <td>78.80</td>\n",
       "      <td>75</td>\n",
       "      <td>9.06</td>\n",
       "    </tr>\n",
       "    <tr>\n",
       "      <th>2</th>\n",
       "      <td>albany</td>\n",
       "      <td>42.65</td>\n",
       "      <td>-73.75</td>\n",
       "      <td>70.02</td>\n",
       "      <td>1011.00</td>\n",
       "      <td>69</td>\n",
       "      <td>64.99</td>\n",
       "      <td>75.20</td>\n",
       "      <td>75</td>\n",
       "      <td>10.29</td>\n",
       "    </tr>\n",
       "    <tr>\n",
       "      <th>3</th>\n",
       "      <td>jamestown</td>\n",
       "      <td>-33.21</td>\n",
       "      <td>138.60</td>\n",
       "      <td>80.01</td>\n",
       "      <td>1021.16</td>\n",
       "      <td>18</td>\n",
       "      <td>80.01</td>\n",
       "      <td>80.01</td>\n",
       "      <td>0</td>\n",
       "      <td>15.46</td>\n",
       "    </tr>\n",
       "    <tr>\n",
       "      <th>4</th>\n",
       "      <td>bluff</td>\n",
       "      <td>-23.58</td>\n",
       "      <td>149.07</td>\n",
       "      <td>72.38</td>\n",
       "      <td>1025.34</td>\n",
       "      <td>58</td>\n",
       "      <td>72.38</td>\n",
       "      <td>72.38</td>\n",
       "      <td>18</td>\n",
       "      <td>18.05</td>\n",
       "    </tr>\n",
       "  </tbody>\n",
       "</table>\n",
       "</div>"
      ],
      "text/plain": [
       "      Cities  Latitude  Longitude  Temperature (F)  Pressure  Humidity (%)  \\\n",
       "0    kavieng     -2.57     150.80            82.58   1012.17            70   \n",
       "1   monrovia      6.33     -10.80            78.80   1012.00            94   \n",
       "2     albany     42.65     -73.75            70.02   1011.00            69   \n",
       "3  jamestown    -33.21     138.60            80.01   1021.16            18   \n",
       "4      bluff    -23.58     149.07            72.38   1025.34            58   \n",
       "\n",
       "   Minimum Temperature (F)  Maximum Temperature (F)  Cloud Coverage (%)  \\\n",
       "0                    82.58                    82.58                  73   \n",
       "1                    78.80                    78.80                  75   \n",
       "2                    64.99                    75.20                  75   \n",
       "3                    80.01                    80.01                   0   \n",
       "4                    72.38                    72.38                  18   \n",
       "\n",
       "   Wind Speed (mph)  \n",
       "0              5.99  \n",
       "1              9.06  \n",
       "2             10.29  \n",
       "3             15.46  \n",
       "4             18.05  "
      ]
     },
     "execution_count": 35,
     "metadata": {},
     "output_type": "execute_result"
    }
   ],
   "source": [
    "wthrdf = pd.read_csv(csvpath)\n",
    "wthrdf.head()"
   ]
  },
  {
   "cell_type": "markdown",
   "metadata": {},
   "source": [
    "### Humidity Heatmap\n",
    "* Configure gmaps.\n",
    "* Use the Lat and Lng as locations and Humidity as the weight.\n",
    "* Add Heatmap layer to map."
   ]
  },
  {
   "cell_type": "code",
   "execution_count": 36,
   "metadata": {
    "scrolled": false
   },
   "outputs": [
    {
     "data": {
      "application/vnd.jupyter.widget-view+json": {
       "model_id": "5a34f995e5ec4ad9b8dd041e9860beb7",
       "version_major": 2,
       "version_minor": 0
      },
      "text/plain": [
       "Figure(layout=FigureLayout(height='420px'))"
      ]
     },
     "metadata": {},
     "output_type": "display_data"
    }
   ],
   "source": [
    "# Access maps with unique API key\n",
    "gmaps.configure(api_key=g_key)\n",
    "locations = wthrdf[[\"Latitude\",\"Longitude\"]]\n",
    "weights = wthrdf[\"Humidity (%)\"]        \n",
    "\n",
    "# Plot\n",
    "fig = gmaps.figure(center=(51.5,0), zoom_level=1.25)\n",
    "fig.add_layer(gmaps.heatmap_layer(locations, weights=weights, dissipating=False, max_intensity=200, point_radius=3))\n",
    "fig"
   ]
  },
  {
   "cell_type": "markdown",
   "metadata": {},
   "source": [
    "### Create new DataFrame fitting weather criteria\n",
    "* Narrow down the cities to fit weather conditions.\n",
    "* Drop any rows will null values."
   ]
  },
  {
   "cell_type": "code",
   "execution_count": 37,
   "metadata": {},
   "outputs": [],
   "source": [
    "# Criteria for hotels\n",
    "\n",
    "# Less than 90F and greater than 80F, less than 30% cloud cover, spa vibe\n",
    "citlst = wthrdf.loc[(wthrdf[\"Maximum Temperature (F)\"] < 90) & (wthrdf[\"Minimum Temperature (F)\"] > 80) & (wthrdf[\"Cloud Coverage (%)\"] < 30)]\n",
    "\n",
    "# Set API params and result arrays\n",
    "params = {\n",
    "    \"type\": \"lodging\",\n",
    "    \"radius\": 5000,\n",
    "    \"keyword\": \"spa\",\n",
    "    \"key\": g_key,\n",
    "}\n",
    "\n",
    "hotnam = []\n",
    "hotlat = []\n",
    "hotlng = []\n",
    "hotcit = []\n",
    "\n",
    "for index, row in citlst.iterrows():\n",
    "\n",
    "    # Get city locations from df\n",
    "    citloc = str(row['Latitude']) + \",\" + str(row['Longitude'])\n",
    "    params['location'] = citloc\n",
    "    \n",
    "    # Get hotel names and locations\n",
    "    res = requests.get(base_url, params=params).json()\n",
    "    if res['status'] != \"ZERO_RESULTS\":\n",
    "        hotnam.append(res['results'][0]['name'])  \n",
    "        hotlat.append(res['results'][0]['geometry']['location']['lat'])\n",
    "        hotlng.append(res['results'][0]['geometry']['location']['lng'])\n",
    "        hotcit.append(res['results'][0]['vicinity'])\n",
    "        "
   ]
  },
  {
   "cell_type": "markdown",
   "metadata": {},
   "source": [
    "### Hotel Map\n",
    "* Store into variable named `hotel_df`.\n",
    "* Add a \"Hotel Name\" column to the DataFrame.\n",
    "* Set parameters to search for hotels with 5000 meters.\n",
    "* Hit the Google Places API for each city's coordinates.\n",
    "* Store the first Hotel result into the DataFrame.\n",
    "* Plot markers on top of the heatmap."
   ]
  },
  {
   "cell_type": "code",
   "execution_count": 38,
   "metadata": {},
   "outputs": [],
   "source": [
    "# Hotel Dataframe (pointless)\n",
    "hotel_df = pd.DataFrame(hotnam)\n",
    "hotel_df = hotel_df.rename(columns={ 0 : \"Hotel Name\"})\n",
    "hotel_df[\"Hotel Latitude\"] = pd.DataFrame(hotlat)\n",
    "hotel_df[\"Hotel Longitude\"] = pd.DataFrame(hotlng)\n",
    "hotel_df[\"Location\"] = pd.DataFrame(hotcit)\n",
    "\n",
    "# Get city locations from df\n",
    "hotloc = hotel_df[['Hotel Latitude','Hotel Longitude']]\n"
   ]
  },
  {
   "cell_type": "code",
   "execution_count": 39,
   "metadata": {},
   "outputs": [],
   "source": [
    "# NOTE: Do not change any of the code in this cell\n",
    "\n",
    "# Using the template add the hotel marks to the heatmap\n",
    "info_box_template = \"\"\"\n",
    "<dl>\n",
    "<dt>Name</dt><dd>{Hotel Name}</dd>\n",
    "<dt>Location</dt><dd>{Location}</dd>\n",
    "</dl>\n",
    "\"\"\"\n",
    "# Store the DataFrame Row\n",
    "# NOTE: be sure to update with your DataFrame name\n",
    "hotel_info = [info_box_template.format(**row) for index, row in hotel_df.iterrows()]\n",
    "locations = hotel_df[[\"Hotel Latitude\",\"Hotel Longitude\"]]"
   ]
  },
  {
   "cell_type": "code",
   "execution_count": 40,
   "metadata": {},
   "outputs": [
    {
     "data": {
      "application/vnd.jupyter.widget-view+json": {
       "model_id": "5a34f995e5ec4ad9b8dd041e9860beb7",
       "version_major": 2,
       "version_minor": 0
      },
      "text/plain": [
       "Figure(layout=FigureLayout(height='420px'))"
      ]
     },
     "metadata": {},
     "output_type": "display_data"
    }
   ],
   "source": [
    "# Add marker layer ontop of heat map\n",
    "fig.add_layer(gmaps.marker_layer(hotloc,info_box_content=hotel_info))\n",
    "# Display Map\n",
    "fig"
   ]
  },
  {
   "cell_type": "code",
   "execution_count": null,
   "metadata": {},
   "outputs": [],
   "source": []
  }
 ],
 "metadata": {
  "kernelspec": {
   "display_name": "Python 3",
   "language": "python",
   "name": "python3"
  },
  "language_info": {
   "codemirror_mode": {
    "name": "ipython",
    "version": 3
   },
   "file_extension": ".py",
   "mimetype": "text/x-python",
   "name": "python",
   "nbconvert_exporter": "python",
   "pygments_lexer": "ipython3",
   "version": "3.7.3"
  },
  "latex_envs": {
   "LaTeX_envs_menu_present": true,
   "autoclose": false,
   "autocomplete": true,
   "bibliofile": "biblio.bib",
   "cite_by": "apalike",
   "current_citInitial": 1,
   "eqLabelWithNumbers": true,
   "eqNumInitial": 1,
   "hotkeys": {
    "equation": "Ctrl-E",
    "itemize": "Ctrl-I"
   },
   "labels_anchors": false,
   "latex_user_defs": false,
   "report_style_numbering": false,
   "user_envs_cfg": false
  }
 },
 "nbformat": 4,
 "nbformat_minor": 2
}
