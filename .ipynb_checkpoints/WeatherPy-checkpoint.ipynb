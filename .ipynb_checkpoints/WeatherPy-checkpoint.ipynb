{
 "cells": [
  {
   "cell_type": "markdown",
   "metadata": {},
   "source": [
    "# WeatherPy\n",
    "----\n",
    "\n",
    "#### Note\n",
    "* Instructions have been included for each segment. You do not have to follow them exactly, but they are included to help you think through the steps."
   ]
  },
  {
   "cell_type": "code",
   "execution_count": 164,
   "metadata": {
    "scrolled": true
   },
   "outputs": [],
   "source": [
    "# Dependencies and Setup\n",
    "%matplotlib inline\n",
    "import matplotlib.pyplot as plt\n",
    "import pandas as pd\n",
    "import numpy as np\n",
    "import requests\n",
    "import time\n",
    "from scipy.stats import linregress\n",
    "from scipy import stats\n",
    "\n",
    "# Import API key\n",
    "from api_keys_weather import weather_api_key\n",
    "\n",
    "#URL for weather\n",
    "url  = \"http://api.openweathermap.org/data/2.5/weather?q=\"\n",
    "apikey = \"&APPID=\"+weather_api_key\n",
    "\n",
    "# Incorporated citipy to determine city based on latitude and longitude\n",
    "from citipy import citipy\n",
    "\n",
    "# Output File (CSV)\n",
    "output_data_file = \"output_data/cities.csv\"\n",
    "\n",
    "# Range of latitudes and longitudes\n",
    "lat_range = (-90, 90)\n",
    "lng_range = (-180, 180)"
   ]
  },
  {
   "cell_type": "markdown",
   "metadata": {},
   "source": [
    "## Generate Cities List"
   ]
  },
  {
   "cell_type": "code",
   "execution_count": 154,
   "metadata": {},
   "outputs": [
    {
     "data": {
      "text/plain": [
       "196"
      ]
     },
     "execution_count": 154,
     "metadata": {},
     "output_type": "execute_result"
    }
   ],
   "source": [
    "# List for holding lat_lngs and cities\n",
    "lat_lngs = []\n",
    "cities = []\n",
    "sizes = 1500\n",
    "\n",
    "# Create a set of random lat and lng combinations\n",
    "lats = np.random.uniform(low=-90.000, high=90.000, size=sizes)\n",
    "lngs = np.random.uniform(low=-180.000, high=180.000, size=sizes)\n",
    "lat_lngs = zip(lats, lngs)\n",
    "\n",
    "# Identify nearest city for each lat, lng combination\n",
    "for lat_lng in lat_lngs:\n",
    "    city = citipy.nearest_city(lat_lng[0], lat_lng[1]).city_name\n",
    "    \n",
    "    # If the city is unique, then add it to a our cities list\n",
    "    if city not in cities:\n",
    "        cities.append(city)\n",
    "\n",
    "# Print the city count to confirm sufficient count\n",
    "len(cities)"
   ]
  },
  {
   "cell_type": "markdown",
   "metadata": {},
   "source": [
    "### Perform API Calls\n",
    "* Perform a weather check on each city using a series of successive API calls.\n",
    "* Include a print log of each city as it'sbeing processed (with the city number and city name).\n"
   ]
  },
  {
   "cell_type": "code",
   "execution_count": 155,
   "metadata": {},
   "outputs": [
    {
     "name": "stdout",
     "output_type": "stream",
     "text": [
      "DONE GATHERING\n"
     ]
    }
   ],
   "source": [
    "responses = []\n",
    "weatherdatas = []\n",
    "locdatas = []\n",
    "clouddatas = []\n",
    "winddatas = []\n",
    "legitcit = []\n",
    "alldata = []\n",
    "y=1\n",
    "\n",
    "for x in cities :\n",
    "    response = requests.get(url + x + apikey)\n",
    "    if response.status_code != 404: \n",
    "        responses.append(response)\n",
    "        legitcit.append(x)\n",
    "    print(f\"City Number = {y}, City = {x}\")\n",
    "    y = y + 1\n",
    "\n",
    "print(\"DONE GATHERING\")\n",
    "    \n",
    "for x in responses :\n",
    "    data = x.json()\n",
    "    alldata.append(data)\n",
    "    weatherdatas.append(data['main'])\n",
    "    locdatas.append(data['coord'])\n",
    "    clouddatas.append(data['clouds'])\n",
    "    winddatas.append(data['wind'])\n",
    "    \n"
   ]
  },
  {
   "cell_type": "markdown",
   "metadata": {},
   "source": [
    "### Convert Raw Data to DataFrame\n",
    "* Export the city data into a .csv.\n",
    "* Display the DataFrame"
   ]
  },
  {
   "cell_type": "code",
   "execution_count": 158,
   "metadata": {},
   "outputs": [
    {
     "data": {
      "text/html": [
       "<div>\n",
       "<style scoped>\n",
       "    .dataframe tbody tr th:only-of-type {\n",
       "        vertical-align: middle;\n",
       "    }\n",
       "\n",
       "    .dataframe tbody tr th {\n",
       "        vertical-align: top;\n",
       "    }\n",
       "\n",
       "    .dataframe thead th {\n",
       "        text-align: right;\n",
       "    }\n",
       "</style>\n",
       "<table border=\"1\" class=\"dataframe\">\n",
       "  <thead>\n",
       "    <tr style=\"text-align: right;\">\n",
       "      <th></th>\n",
       "      <th>Cities</th>\n",
       "      <th>Latitude</th>\n",
       "      <th>Temperature (K)</th>\n",
       "      <th>Pressure</th>\n",
       "      <th>Humidity (%)</th>\n",
       "      <th>Minimum Temperature (K)</th>\n",
       "      <th>Maximum Temperature (K)</th>\n",
       "      <th>Cloud Coverage (%)</th>\n",
       "      <th>Wind Speed (mph)</th>\n",
       "    </tr>\n",
       "  </thead>\n",
       "  <tbody>\n",
       "    <tr>\n",
       "      <th>0</th>\n",
       "      <td>barrow</td>\n",
       "      <td>-38.31</td>\n",
       "      <td>283.10</td>\n",
       "      <td>1008.75</td>\n",
       "      <td>65</td>\n",
       "      <td>283.10</td>\n",
       "      <td>283.10</td>\n",
       "      <td>79</td>\n",
       "      <td>2.65</td>\n",
       "    </tr>\n",
       "    <tr>\n",
       "      <th>1</th>\n",
       "      <td>beni suef</td>\n",
       "      <td>29.07</td>\n",
       "      <td>294.10</td>\n",
       "      <td>1012.90</td>\n",
       "      <td>75</td>\n",
       "      <td>294.10</td>\n",
       "      <td>294.10</td>\n",
       "      <td>0</td>\n",
       "      <td>4.51</td>\n",
       "    </tr>\n",
       "    <tr>\n",
       "      <th>2</th>\n",
       "      <td>avarua</td>\n",
       "      <td>-21.21</td>\n",
       "      <td>298.15</td>\n",
       "      <td>1013.00</td>\n",
       "      <td>57</td>\n",
       "      <td>298.15</td>\n",
       "      <td>298.15</td>\n",
       "      <td>13</td>\n",
       "      <td>4.60</td>\n",
       "    </tr>\n",
       "    <tr>\n",
       "      <th>3</th>\n",
       "      <td>georgetown</td>\n",
       "      <td>6.80</td>\n",
       "      <td>299.52</td>\n",
       "      <td>1009.00</td>\n",
       "      <td>83</td>\n",
       "      <td>298.15</td>\n",
       "      <td>301.15</td>\n",
       "      <td>20</td>\n",
       "      <td>2.10</td>\n",
       "    </tr>\n",
       "    <tr>\n",
       "      <th>4</th>\n",
       "      <td>bluff</td>\n",
       "      <td>-23.58</td>\n",
       "      <td>296.30</td>\n",
       "      <td>1020.22</td>\n",
       "      <td>37</td>\n",
       "      <td>296.30</td>\n",
       "      <td>296.30</td>\n",
       "      <td>1</td>\n",
       "      <td>1.85</td>\n",
       "    </tr>\n",
       "  </tbody>\n",
       "</table>\n",
       "</div>"
      ],
      "text/plain": [
       "       Cities  Latitude  Temperature (K)  Pressure  Humidity (%)  \\\n",
       "0      barrow    -38.31           283.10   1008.75            65   \n",
       "1   beni suef     29.07           294.10   1012.90            75   \n",
       "2      avarua    -21.21           298.15   1013.00            57   \n",
       "3  georgetown      6.80           299.52   1009.00            83   \n",
       "4       bluff    -23.58           296.30   1020.22            37   \n",
       "\n",
       "   Minimum Temperature (K)  Maximum Temperature (K)  Cloud Coverage (%)  \\\n",
       "0                   283.10                   283.10                  79   \n",
       "1                   294.10                   294.10                   0   \n",
       "2                   298.15                   298.15                  13   \n",
       "3                   298.15                   301.15                  20   \n",
       "4                   296.30                   296.30                   1   \n",
       "\n",
       "   Wind Speed (mph)  \n",
       "0              2.65  \n",
       "1              4.51  \n",
       "2              4.60  \n",
       "3              2.10  \n",
       "4              1.85  "
      ]
     },
     "execution_count": 158,
     "metadata": {},
     "output_type": "execute_result"
    }
   ],
   "source": [
    "temp = []\n",
    "pressure = []\n",
    "humidity = []\n",
    "temp_min = []\n",
    "temp_max = []\n",
    "lat = []\n",
    "clouds = []\n",
    "wind = []\n",
    "dfcit = []\n",
    "y=0\n",
    "for x in weatherdatas:\n",
    "    temp.append(weatherdatas[y]['temp'])\n",
    "    pressure.append(weatherdatas[y]['pressure'])\n",
    "    humidity.append(weatherdatas[y]['humidity'])\n",
    "    temp_min.append(weatherdatas[y]['temp_min'])\n",
    "    temp_max.append(weatherdatas[y]['temp_max'])\n",
    "    clouds.append(clouddatas[y]['all'])\n",
    "    lat.append(locdatas[y]['lat'])\n",
    "    wind.append(winddatas[y]['speed'])\n",
    "    y=y+1\n",
    "    \n",
    "dfcit = pd.DataFrame(legitcit)\n",
    "dfcit = dfcit.rename(columns={ 0 : \"Cities\"})\n",
    "dfcit[\"Latitude\"] = lat\n",
    "dfcit[\"Temperature (K)\"] = temp\n",
    "dfcit[\"Pressure\"] = pressure\n",
    "dfcit[\"Humidity (%)\"] = humidity\n",
    "dfcit[\"Minimum Temperature (K)\"] = temp_min\n",
    "dfcit[\"Maximum Temperature (K)\"] = temp_max\n",
    "dfcit[\"Cloud Coverage (%)\"] = clouds\n",
    "dfcit[\"Wind Speed (mph)\"] = wind\n",
    "\n",
    "dfcit.head()"
   ]
  },
  {
   "cell_type": "markdown",
   "metadata": {},
   "source": [
    "### Plotting the Data\n",
    "* Use proper labeling of the plots using plot titles (including date of analysis) and axes labels.\n",
    "* Save the plotted figures as .pngs."
   ]
  },
  {
   "cell_type": "markdown",
   "metadata": {},
   "source": [
    "#### Latitude vs. Temperature Plot"
   ]
  },
  {
   "cell_type": "code",
   "execution_count": 159,
   "metadata": {},
   "outputs": [
    {
     "data": {
      "text/plain": [
       "<matplotlib.collections.PathCollection at 0x1a28ec7eb8>"
      ]
     },
     "execution_count": 159,
     "metadata": {},
     "output_type": "execute_result"
    },
    {
     "data": {
      "image/png": "[encoded data removed]",
      "text/plain": [
       "<Figure size 432x288 with 1 Axes>"
      ]
     },
     "metadata": {
      "needs_background": "light"
     },
     "output_type": "display_data"
    }
   ],
   "source": [
    "plt.scatter(dfcit['Latitude'], dfcit['Temperature (K)'], marker=\"o\", facecolors=\"red\", edgecolors=\"black\", alpha=0.75)\n"
   ]
  },
  {
   "cell_type": "markdown",
   "metadata": {},
   "source": [
    "#### Latitude vs. Humidity Plot"
   ]
  },
  {
   "cell_type": "code",
   "execution_count": 160,
   "metadata": {},
   "outputs": [
    {
     "data": {
      "text/plain": [
       "<matplotlib.collections.PathCollection at 0x1a28d9b400>"
      ]
     },
     "execution_count": 160,
     "metadata": {},
     "output_type": "execute_result"
    },
    {
     "data": {
      "image/png": "[encoded data removed]",
      "text/plain": [
       "<Figure size 432x288 with 1 Axes>"
      ]
     },
     "metadata": {
      "needs_background": "light"
     },
     "output_type": "display_data"
    }
   ],
   "source": [
    "plt.scatter(dfcit['Latitude'], dfcit['Humidity (%)'], marker=\"o\", facecolors=\"blue\", edgecolors=\"black\", alpha=0.75)\n"
   ]
  },
  {
   "cell_type": "markdown",
   "metadata": {},
   "source": [
    "#### Latitude vs. Cloudiness Plot"
   ]
  },
  {
   "cell_type": "code",
   "execution_count": 161,
   "metadata": {},
   "outputs": [
    {
     "data": {
      "text/plain": [
       "<matplotlib.collections.PathCollection at 0x1a29024550>"
      ]
     },
     "execution_count": 161,
     "metadata": {},
     "output_type": "execute_result"
    },
    {
     "data": {
      "image/png": "[encoded data removed]",
      "text/plain": [
       "<Figure size 432x288 with 1 Axes>"
      ]
     },
     "metadata": {
      "needs_background": "light"
     },
     "output_type": "display_data"
    }
   ],
   "source": [
    "plt.scatter(dfcit['Latitude'], dfcit['Cloud Coverage (%)'], marker=\"o\", facecolors=\"green\", edgecolors=\"black\", alpha=0.75)\n"
   ]
  },
  {
   "cell_type": "markdown",
   "metadata": {},
   "source": [
    "#### Latitude vs. Wind Speed Plot"
   ]
  },
  {
   "cell_type": "code",
   "execution_count": 162,
   "metadata": {},
   "outputs": [
    {
     "data": {
      "text/plain": [
       "<matplotlib.collections.PathCollection at 0x1a290ebb00>"
      ]
     },
     "execution_count": 162,
     "metadata": {},
     "output_type": "execute_result"
    },
    {
     "data": {
      "image/png": "[encoded data removed]",
      "text/plain": [
       "<Figure size 432x288 with 1 Axes>"
      ]
     },
     "metadata": {
      "needs_background": "light"
     },
     "output_type": "display_data"
    }
   ],
   "source": [
    "plt.scatter(dfcit['Latitude'], dfcit['Cloud Coverage (%)'], marker=\"o\", facecolors=\"yellow\", edgecolors=\"black\", alpha=0.75)"
   ]
  },
  {
   "cell_type": "markdown",
   "metadata": {},
   "source": [
    "## Linear Regression"
   ]
  },
  {
   "cell_type": "code",
   "execution_count": 170,
   "metadata": {},
   "outputs": [],
   "source": [
    "# Create Northern and Southern Hemisphere DataFrames\n",
    "north = dfcit.loc[dfcit[\"Latitude\"] > 0]\n",
    "south = dfcit.loc[dfcit[\"Latitude\"] < 0]"
   ]
  },
  {
   "cell_type": "markdown",
   "metadata": {},
   "source": [
    "####  Northern Hemisphere - Max Temp vs. Latitude Linear Regression"
   ]
  },
  {
   "cell_type": "code",
   "execution_count": 177,
   "metadata": {},
   "outputs": [
    {
     "name": "stdout",
     "output_type": "stream",
     "text": [
      "The R Value is -0.8462918456415386\n"
     ]
    },
    {
     "data": {
      "image/png": "[encoded data removed]",
      "text/plain": [
       "<Figure size 432x288 with 1 Axes>"
      ]
     },
     "metadata": {
      "needs_background": "light"
     },
     "output_type": "display_data"
    }
   ],
   "source": [
    "slope, intercept, r_value, p_value, std_err = stats.linregress(north['Latitude'], north['Temperature (K)'])\n",
    "regress_values = north['Latitude'] * slope + intercept\n",
    "#line_eq = \"y = \" + str(round(slope,2)) + \"x + \" + str(round(intercept,2))\n",
    "plt.scatter(north['Latitude'],north['Temperature (K)'])\n",
    "plt.plot(north['Latitude'],regress_values,\"r-\")\n",
    "print(f\"The R Value is {r_value}\")"
   ]
  },
  {
   "cell_type": "markdown",
   "metadata": {},
   "source": [
    "####  Southern Hemisphere - Max Temp vs. Latitude Linear Regression"
   ]
  },
  {
   "cell_type": "code",
   "execution_count": 176,
   "metadata": {},
   "outputs": [
    {
     "name": "stdout",
     "output_type": "stream",
     "text": [
      "The R Value is 0.8671921101995724\n"
     ]
    },
    {
     "data": {
      "image/png": "[encoded data removed]",
      "text/plain": [
       "<Figure size 432x288 with 1 Axes>"
      ]
     },
     "metadata": {
      "needs_background": "light"
     },
     "output_type": "display_data"
    }
   ],
   "source": [
    "slope, intercept, r_value, p_value, std_err = stats.linregress(south['Latitude'], south['Temperature (K)'])\n",
    "regress_values = south['Latitude'] * slope + intercept\n",
    "#line_eq = \"y = \" + str(round(slope,2)) + \"x + \" + str(round(intercept,2))\n",
    "plt.scatter(south['Latitude'],south['Temperature (K)'])\n",
    "plt.plot(south['Latitude'],regress_values,\"r-\")\n",
    "print(f\"The R Value is {r_value}\")"
   ]
  },
  {
   "cell_type": "markdown",
   "metadata": {},
   "source": [
    "####  Northern Hemisphere - Humidity (%) vs. Latitude Linear Regression"
   ]
  },
  {
   "cell_type": "code",
   "execution_count": 178,
   "metadata": {},
   "outputs": [
    {
     "name": "stdout",
     "output_type": "stream",
     "text": [
      "The R Value is -0.17509546833023013\n"
     ]
    },
    {
     "data": {
      "image/png": "[encoded data removed]",
      "text/plain": [
       "<Figure size 432x288 with 1 Axes>"
      ]
     },
     "metadata": {
      "needs_background": "light"
     },
     "output_type": "display_data"
    }
   ],
   "source": [
    "slope, intercept, r_value, p_value, std_err = stats.linregress(north['Latitude'], north['Humidity (%)'])\n",
    "regress_values = north['Latitude'] * slope + intercept\n",
    "#line_eq = \"y = \" + str(round(slope,2)) + \"x + \" + str(round(intercept,2))\n",
    "plt.scatter(north['Latitude'],north['Humidity (%)'])\n",
    "plt.plot(north['Latitude'],regress_values,\"r-\")\n",
    "print(f\"The R Value is {r_value}\") "
   ]
  },
  {
   "cell_type": "markdown",
   "metadata": {},
   "source": [
    "####  Southern Hemisphere - Humidity (%) vs. Latitude Linear Regression"
   ]
  },
  {
   "cell_type": "code",
   "execution_count": 179,
   "metadata": {},
   "outputs": [
    {
     "name": "stdout",
     "output_type": "stream",
     "text": [
      "The R Value is -0.07912742107638517\n"
     ]
    },
    {
     "data": {
      "image/png": "[encoded data removed]",
      "text/plain": [
       "<Figure size 432x288 with 1 Axes>"
      ]
     },
     "metadata": {
      "needs_background": "light"
     },
     "output_type": "display_data"
    }
   ],
   "source": [
    "slope, intercept, r_value, p_value, std_err = stats.linregress(south['Latitude'], south['Humidity (%)'])\n",
    "regress_values = south['Latitude'] * slope + intercept\n",
    "#line_eq = \"y = \" + str(round(slope,2)) + \"x + \" + str(round(intercept,2))\n",
    "plt.scatter(south['Latitude'],south['Humidity (%)'])\n",
    "plt.plot(south['Latitude'],regress_values,\"r-\")\n",
    "print(f\"The R Value is {r_value}\")"
   ]
  },
  {
   "cell_type": "markdown",
   "metadata": {},
   "source": [
    "####  Northern Hemisphere - Cloudiness (%) vs. Latitude Linear Regression"
   ]
  },
  {
   "cell_type": "code",
   "execution_count": 181,
   "metadata": {},
   "outputs": [
    {
     "name": "stdout",
     "output_type": "stream",
     "text": [
      "The R Value is 0.0595637674415422\n"
     ]
    },
    {
     "data": {
      "image/png": "[encoded data removed]",
      "text/plain": [
       "<Figure size 432x288 with 1 Axes>"
      ]
     },
     "metadata": {
      "needs_background": "light"
     },
     "output_type": "display_data"
    }
   ],
   "source": [
    "slope, intercept, r_value, p_value, std_err = stats.linregress(north['Latitude'], north['Cloud Coverage (%)'])\n",
    "regress_values = north['Latitude'] * slope + intercept\n",
    "#line_eq = \"y = \" + str(round(slope,2)) + \"x + \" + str(round(intercept,2))\n",
    "plt.scatter(north['Latitude'],north['Cloud Coverage (%)'])\n",
    "plt.plot(north['Latitude'],regress_values,\"r-\")\n",
    "print(f\"The R Value is {r_value}\") "
   ]
  },
  {
   "cell_type": "markdown",
   "metadata": {},
   "source": [
    "####  Southern Hemisphere - Cloudiness (%) vs. Latitude Linear Regression"
   ]
  },
  {
   "cell_type": "code",
   "execution_count": 182,
   "metadata": {},
   "outputs": [
    {
     "name": "stdout",
     "output_type": "stream",
     "text": [
      "The R Value is -0.010924700603796446\n"
     ]
    },
    {
     "data": {
      "image/png": "[encoded data removed]",
      "text/plain": [
       "<Figure size 432x288 with 1 Axes>"
      ]
     },
     "metadata": {
      "needs_background": "light"
     },
     "output_type": "display_data"
    }
   ],
   "source": [
    "slope, intercept, r_value, p_value, std_err = stats.linregress(south['Latitude'], south['Cloud Coverage (%)'])\n",
    "regress_values = south['Latitude'] * slope + intercept\n",
    "#line_eq = \"y = \" + str(round(slope,2)) + \"x + \" + str(round(intercept,2))\n",
    "plt.scatter(south['Latitude'],south['Cloud Coverage (%)'])\n",
    "plt.plot(south['Latitude'],regress_values,\"r-\")\n",
    "print(f\"The R Value is {r_value}\") "
   ]
  },
  {
   "cell_type": "markdown",
   "metadata": {},
   "source": [
    "####  Northern Hemisphere - Wind Speed (mph) vs. Latitude Linear Regression"
   ]
  },
  {
   "cell_type": "code",
   "execution_count": 183,
   "metadata": {},
   "outputs": [
    {
     "name": "stdout",
     "output_type": "stream",
     "text": [
      "The R Value is 0.26638188271404056\n"
     ]
    },
    {
     "data": {
      "image/png": "[encoded data removed]",
      "text/plain": [
       "<Figure size 432x288 with 1 Axes>"
      ]
     },
     "metadata": {
      "needs_background": "light"
     },
     "output_type": "display_data"
    }
   ],
   "source": [
    "slope, intercept, r_value, p_value, std_err = stats.linregress(north['Latitude'], north['Wind Speed (mph)'])\n",
    "regress_values = north['Latitude'] * slope + intercept\n",
    "#line_eq = \"y = \" + str(round(slope,2)) + \"x + \" + str(round(intercept,2))\n",
    "plt.scatter(north['Latitude'],north['Wind Speed (mph)'])\n",
    "plt.plot(north['Latitude'],regress_values,\"r-\")\n",
    "print(f\"The R Value is {r_value}\") "
   ]
  },
  {
   "cell_type": "markdown",
   "metadata": {},
   "source": [
    "####  Southern Hemisphere - Wind Speed (mph) vs. Latitude Linear Regression"
   ]
  },
  {
   "cell_type": "code",
   "execution_count": 184,
   "metadata": {},
   "outputs": [
    {
     "name": "stdout",
     "output_type": "stream",
     "text": [
      "The R Value is -0.11533552344966229\n"
     ]
    },
    {
     "data": {
      "image/png": "[encoded data removed]",
      "text/plain": [
       "<Figure size 432x288 with 1 Axes>"
      ]
     },
     "metadata": {
      "needs_background": "light"
     },
     "output_type": "display_data"
    }
   ],
   "source": [
    "slope, intercept, r_value, p_value, std_err = stats.linregress(south['Latitude'], south['Wind Speed (mph)'])\n",
    "regress_values = south['Latitude'] * slope + intercept\n",
    "#line_eq = \"y = \" + str(round(slope,2)) + \"x + \" + str(round(intercept,2))\n",
    "plt.scatter(south['Latitude'],south['Wind Speed (mph)'])\n",
    "plt.plot(south['Latitude'],regress_values,\"r-\")\n",
    "print(f\"The R Value is {r_value}\") "
   ]
  },
  {
   "cell_type": "code",
   "execution_count": null,
   "metadata": {},
   "outputs": [],
   "source": []
  }
 ],
 "metadata": {
  "anaconda-cloud": {},
  "kernel_info": {
   "name": "python3"
  },
  "kernelspec": {
   "display_name": "Python 3",
   "language": "python",
   "name": "python3"
  },
  "language_info": {
   "codemirror_mode": {
    "name": "ipython",
    "version": 3
   },
   "file_extension": ".py",
   "mimetype": "text/x-python",
   "name": "python",
   "nbconvert_exporter": "python",
   "pygments_lexer": "ipython3",
   "version": "3.7.3"
  },
  "latex_envs": {
   "LaTeX_envs_menu_present": true,
   "autoclose": false,
   "autocomplete": true,
   "bibliofile": "biblio.bib",
   "cite_by": "apalike",
   "current_citInitial": 1,
   "eqLabelWithNumbers": true,
   "eqNumInitial": 1,
   "hotkeys": {
    "equation": "Ctrl-E",
    "itemize": "Ctrl-I"
   },
   "labels_anchors": false,
   "latex_user_defs": false,
   "report_style_numbering": false,
   "user_envs_cfg": false
  },
  "nteract": {
   "version": "0.12.3"
  }
 },
 "nbformat": 4,
 "nbformat_minor": 2
}
